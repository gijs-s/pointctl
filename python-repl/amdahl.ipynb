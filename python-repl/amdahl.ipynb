{
 "cells": [
  {
   "cell_type": "code",
   "execution_count": null,
   "metadata": {},
   "outputs": [],
   "source": [
    "import matplotlib.pyplot as plt\n",
    "import numpy as np"
   ]
  },
  {
   "cell_type": "code",
   "execution_count": null,
   "metadata": {},
   "outputs": [],
   "source": [
    "def amdahl(p, s):\n",
    "    return 1 / ((1 - p) + (p/s))"
   ]
  },
  {
   "cell_type": "code",
   "execution_count": null,
   "metadata": {},
   "outputs": [],
   "source": [
    "data = [2**n for n in range(0,13) ]\n",
    "names = [str(d) for d in data]\n",
    "res = [amdahl(0.9, v) * 100 for v in data]\n",
    "\n",
    "fig = plt.figure(figsize=(10, 6))\n",
    "\n",
    "plt.plot(names, res)\n",
    "plt.yticks(np.arange(100, 1001, step=100))\n",
    "plt.grid()\n",
    "plt.xlabel('core count')\n",
    "plt.ylabel('preformance increase (in percent)')\n",
    "\n",
    "plt.show()\n",
    "\n",
    "fig.savefig('amdahl.png',bbox_inches='tight', dpi=200)"
   ]
  }
 ],
 "metadata": {
  "kernelspec": {
   "display_name": "Python 3",
   "language": "python",
   "name": "python3"
  },
  "language_info": {
   "codemirror_mode": {
    "name": "ipython",
    "version": 3
   },
   "file_extension": ".py",
   "mimetype": "text/x-python",
   "name": "python",
   "nbconvert_exporter": "python",
   "pygments_lexer": "ipython3",
   "version": "3.8.5"
  }
 },
 "nbformat": 4,
 "nbformat_minor": 4
}
