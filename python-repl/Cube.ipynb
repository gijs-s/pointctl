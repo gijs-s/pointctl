{
 "cells": [
  {
   "cell_type": "code",
   "execution_count": 6,
   "metadata": {},
   "outputs": [],
   "source": [
    "import numpy as np\n",
    "import pandas as pd\n",
    "from sklearn.manifold import TSNE\n",
    "from sklearn.decomposition import PCA\n",
    "from sklearn.preprocessing import MinMaxScaler\n",
    "\n",
    "import matplotlib\n",
    "import seaborn as sns\n",
    "import matplotlib.pyplot as plt"
   ]
  },
  {
   "cell_type": "code",
   "execution_count": 7,
   "metadata": {},
   "outputs": [
    {
     "name": "stdout",
     "output_type": "stream",
     "text": [
      "Point cloud processing 0.3.0\n",
      "Gijs van Steenpaal <g.j.vansteenpaal@students.uu.nl>\n",
      "Program for generating, processing and explaining point clouds\n",
      "\n",
      "USAGE:\n",
      "    pointctl [SUBCOMMAND]\n",
      "\n",
      "FLAGS:\n",
      "    -h, --help       Prints help information\n",
      "    -V, --version    Prints version information\n",
      "\n",
      "SUBCOMMANDS:\n",
      "    explain     Calculate a explanation given the original and reduced dataset (Only DaSilva right now)\n",
      "    generate    Generate synthetic point clouds\n",
      "    help        Prints this message or the help of the given subcommand(s)\n",
      "    reduce      Reduce a nD dataset to 2D or 3D\n",
      "    view        Allows you to view 3D data points given the original data, reduced points and the annotations. This\n",
      "                command assumes that the reduced points, original data and annotations have matching indexes. The to\n",
      "                start the viewer you need to provide the original data and either a 2d or 3d reduced set.\n",
      "                Annotations are optional and can be computed from the viewer \n"
     ]
    }
   ],
   "source": [
    "# Ensure the pointctl tool is installed\n",
    "!pointctl --help"
   ]
  },
  {
   "cell_type": "markdown",
   "metadata": {},
   "source": [
    "## Load in the cube dataset and reduce using PCA"
   ]
  },
  {
   "cell_type": "code",
   "execution_count": 8,
   "metadata": {},
   "outputs": [
    {
     "name": "stdout",
     "output_type": "stream",
     "text": [
      "Will generate 10000 points in cube pattern\n",
      "Generated 1000 points\n",
      "Generated 2000 points\n",
      "Generated 3000 points\n",
      "Generated 4000 points\n",
      "Generated 5000 points\n",
      "Generated 6000 points\n",
      "Generated 7000 points\n",
      "Generated 8000 points\n",
      "Generated 9000 points\n",
      "Generated 10000 points\n",
      "All points written to file\n"
     ]
    }
   ],
   "source": [
    "!pointctl generate -n 0.01 -p 10000 ../data/cube/cube.csv"
   ]
  },
  {
   "cell_type": "code",
   "execution_count": 11,
   "metadata": {},
   "outputs": [],
   "source": [
    "df = pd.read_csv('../data/cube/cube.csv', delimiter=';')"
   ]
  },
  {
   "cell_type": "code",
   "execution_count": 12,
   "metadata": {},
   "outputs": [],
   "source": [
    "def label(row):\n",
    "    if row[0] < 0.05:\n",
    "        return 0\n",
    "    elif row[1] < 0.05:\n",
    "        return 1\n",
    "    elif row[2] < 0.05:\n",
    "        return 2\n",
    "df['cls'] = df.apply(lambda row: label(row), axis=1)"
   ]
  },
  {
   "cell_type": "code",
   "execution_count": 13,
   "metadata": {},
   "outputs": [
    {
     "data": {
      "text/html": [
       "<div>\n",
       "<style scoped>\n",
       "    .dataframe tbody tr th:only-of-type {\n",
       "        vertical-align: middle;\n",
       "    }\n",
       "\n",
       "    .dataframe tbody tr th {\n",
       "        vertical-align: top;\n",
       "    }\n",
       "\n",
       "    .dataframe thead th {\n",
       "        text-align: right;\n",
       "    }\n",
       "</style>\n",
       "<table border=\"1\" class=\"dataframe\">\n",
       "  <thead>\n",
       "    <tr style=\"text-align: right;\">\n",
       "      <th></th>\n",
       "      <th>x</th>\n",
       "      <th>y</th>\n",
       "      <th>z</th>\n",
       "      <th>cls</th>\n",
       "    </tr>\n",
       "  </thead>\n",
       "  <tbody>\n",
       "    <tr>\n",
       "      <th>0</th>\n",
       "      <td>0.436531</td>\n",
       "      <td>-0.002838</td>\n",
       "      <td>0.765682</td>\n",
       "      <td>1</td>\n",
       "    </tr>\n",
       "    <tr>\n",
       "      <th>1</th>\n",
       "      <td>0.393830</td>\n",
       "      <td>0.201358</td>\n",
       "      <td>-0.007635</td>\n",
       "      <td>2</td>\n",
       "    </tr>\n",
       "    <tr>\n",
       "      <th>2</th>\n",
       "      <td>0.470860</td>\n",
       "      <td>0.502421</td>\n",
       "      <td>0.005600</td>\n",
       "      <td>2</td>\n",
       "    </tr>\n",
       "    <tr>\n",
       "      <th>3</th>\n",
       "      <td>0.004447</td>\n",
       "      <td>0.273301</td>\n",
       "      <td>0.122724</td>\n",
       "      <td>0</td>\n",
       "    </tr>\n",
       "    <tr>\n",
       "      <th>4</th>\n",
       "      <td>-0.001644</td>\n",
       "      <td>0.420992</td>\n",
       "      <td>0.162364</td>\n",
       "      <td>0</td>\n",
       "    </tr>\n",
       "  </tbody>\n",
       "</table>\n",
       "</div>"
      ],
      "text/plain": [
       "          x         y         z  cls\n",
       "0  0.436531 -0.002838  0.765682    1\n",
       "1  0.393830  0.201358 -0.007635    2\n",
       "2  0.470860  0.502421  0.005600    2\n",
       "3  0.004447  0.273301  0.122724    0\n",
       "4 -0.001644  0.420992  0.162364    0"
      ]
     },
     "execution_count": 13,
     "metadata": {},
     "output_type": "execute_result"
    }
   ],
   "source": [
    "df.head()"
   ]
  },
  {
   "cell_type": "code",
   "execution_count": 18,
   "metadata": {},
   "outputs": [],
   "source": [
    "pca_res = PCA(n_components=2).fit_transform(df[['x','y','z']])"
   ]
  },
  {
   "cell_type": "code",
   "execution_count": 21,
   "metadata": {},
   "outputs": [
    {
     "data": {
      "text/html": [
       "<div>\n",
       "<style scoped>\n",
       "    .dataframe tbody tr th:only-of-type {\n",
       "        vertical-align: middle;\n",
       "    }\n",
       "\n",
       "    .dataframe tbody tr th {\n",
       "        vertical-align: top;\n",
       "    }\n",
       "\n",
       "    .dataframe thead th {\n",
       "        text-align: right;\n",
       "    }\n",
       "</style>\n",
       "<table border=\"1\" class=\"dataframe\">\n",
       "  <thead>\n",
       "    <tr style=\"text-align: right;\">\n",
       "      <th></th>\n",
       "      <th>x</th>\n",
       "      <th>y</th>\n",
       "      <th>cls</th>\n",
       "    </tr>\n",
       "  </thead>\n",
       "  <tbody>\n",
       "    <tr>\n",
       "      <th>0</th>\n",
       "      <td>0.446623</td>\n",
       "      <td>-0.315201</td>\n",
       "      <td>1</td>\n",
       "    </tr>\n",
       "    <tr>\n",
       "      <th>1</th>\n",
       "      <td>0.038137</td>\n",
       "      <td>0.278627</td>\n",
       "      <td>2</td>\n",
       "    </tr>\n",
       "    <tr>\n",
       "      <th>2</th>\n",
       "      <td>-0.156885</td>\n",
       "      <td>0.359584</td>\n",
       "      <td>2</td>\n",
       "    </tr>\n",
       "    <tr>\n",
       "      <th>3</th>\n",
       "      <td>-0.188470</td>\n",
       "      <td>-0.055468</td>\n",
       "      <td>0</td>\n",
       "    </tr>\n",
       "    <tr>\n",
       "      <th>4</th>\n",
       "      <td>-0.297893</td>\n",
       "      <td>-0.068674</td>\n",
       "      <td>0</td>\n",
       "    </tr>\n",
       "  </tbody>\n",
       "</table>\n",
       "</div>"
      ],
      "text/plain": [
       "          x         y  cls\n",
       "0  0.446623 -0.315201    1\n",
       "1  0.038137  0.278627    2\n",
       "2 -0.156885  0.359584    2\n",
       "3 -0.188470 -0.055468    0\n",
       "4 -0.297893 -0.068674    0"
      ]
     },
     "execution_count": 21,
     "metadata": {},
     "output_type": "execute_result"
    }
   ],
   "source": [
    "res_df = pd.DataFrame({'x': pca_res[:,0], 'y': pca_res[:,1], 'cls': df['cls']})\n",
    "res_df.head()"
   ]
  },
  {
   "cell_type": "code",
   "execution_count": 22,
   "metadata": {},
   "outputs": [],
   "source": [
    "result = pd.DataFrame(res_df[['x','y']])\n",
    "result.to_csv('../data/cube/cube-reduced.csv', index=None, sep=';')"
   ]
  },
  {
   "cell_type": "code",
   "execution_count": 24,
   "metadata": {},
   "outputs": [
    {
     "name": "stdout",
     "output_type": "stream",
     "text": [
      "Original data loaded. Consists of 10000 points with 3 dimensions\n",
      "Reduced 2D data loaded. Consists of 10000 points with 2 dimensions\n"
     ]
    }
   ],
   "source": [
    "!pointctl view -i ../data/cube/cube.csv --r2d ../data/cube/cube-reduced.csv"
   ]
  },
  {
   "cell_type": "markdown",
   "metadata": {},
   "source": [
    "## Running TSNE"
   ]
  },
  {
   "cell_type": "code",
   "execution_count": 25,
   "metadata": {},
   "outputs": [
    {
     "name": "stdout",
     "output_type": "stream",
     "text": [
      "[t-SNE] Computing 91 nearest neighbors...\n",
      "[t-SNE] Indexed 10000 samples in 0.007s...\n",
      "[t-SNE] Computed neighbors for 10000 samples in 0.322s...\n",
      "[t-SNE] Computed conditional probabilities for sample 1000 / 10000\n",
      "[t-SNE] Computed conditional probabilities for sample 2000 / 10000\n",
      "[t-SNE] Computed conditional probabilities for sample 3000 / 10000\n",
      "[t-SNE] Computed conditional probabilities for sample 4000 / 10000\n",
      "[t-SNE] Computed conditional probabilities for sample 5000 / 10000\n",
      "[t-SNE] Computed conditional probabilities for sample 6000 / 10000\n",
      "[t-SNE] Computed conditional probabilities for sample 7000 / 10000\n",
      "[t-SNE] Computed conditional probabilities for sample 8000 / 10000\n",
      "[t-SNE] Computed conditional probabilities for sample 9000 / 10000\n",
      "[t-SNE] Computed conditional probabilities for sample 10000 / 10000\n",
      "[t-SNE] Mean sigma: 0.032680\n",
      "[t-SNE] Computed conditional probabilities in 0.607s\n",
      "[t-SNE] Iteration 50: error = 96.1548233, gradient norm = 0.0201064 (50 iterations in 1.774s)\n",
      "[t-SNE] Iteration 100: error = 76.8446884, gradient norm = 0.0055781 (50 iterations in 1.355s)\n",
      "[t-SNE] Iteration 150: error = 71.2449265, gradient norm = 0.0035197 (50 iterations in 1.338s)\n",
      "[t-SNE] Iteration 200: error = 68.4038544, gradient norm = 0.0017626 (50 iterations in 1.386s)\n",
      "[t-SNE] Iteration 250: error = 67.0067444, gradient norm = 0.0010909 (50 iterations in 1.305s)\n",
      "[t-SNE] KL divergence after 250 iterations with early exaggeration: 67.006744\n",
      "[t-SNE] Iteration 300: error = 2.2231259, gradient norm = 0.0013050 (50 iterations in 1.273s)\n",
      "[t-SNE] Iteration 350: error = 1.5992128, gradient norm = 0.0006220 (50 iterations in 1.292s)\n",
      "[t-SNE] Iteration 400: error = 1.2983903, gradient norm = 0.0003710 (50 iterations in 1.268s)\n",
      "[t-SNE] Iteration 450: error = 1.1282978, gradient norm = 0.0002505 (50 iterations in 1.268s)\n",
      "[t-SNE] Iteration 500: error = 1.0211320, gradient norm = 0.0001822 (50 iterations in 1.328s)\n",
      "[t-SNE] Iteration 550: error = 0.9483426, gradient norm = 0.0001398 (50 iterations in 1.272s)\n",
      "[t-SNE] Iteration 600: error = 0.8964580, gradient norm = 0.0001115 (50 iterations in 1.256s)\n",
      "[t-SNE] Iteration 650: error = 0.8581646, gradient norm = 0.0000921 (50 iterations in 1.383s)\n",
      "[t-SNE] Iteration 700: error = 0.8290251, gradient norm = 0.0000784 (50 iterations in 1.267s)\n",
      "[t-SNE] Iteration 750: error = 0.8066106, gradient norm = 0.0000695 (50 iterations in 1.264s)\n",
      "[t-SNE] Iteration 800: error = 0.7897418, gradient norm = 0.0000646 (50 iterations in 1.277s)\n",
      "[t-SNE] Iteration 850: error = 0.7772889, gradient norm = 0.0000617 (50 iterations in 1.260s)\n",
      "[t-SNE] Iteration 900: error = 0.7682995, gradient norm = 0.0000580 (50 iterations in 1.271s)\n",
      "[t-SNE] Iteration 950: error = 0.7617995, gradient norm = 0.0000564 (50 iterations in 1.252s)\n",
      "[t-SNE] Iteration 1000: error = 0.7572178, gradient norm = 0.0000572 (50 iterations in 1.333s)\n",
      "[t-SNE] KL divergence after 1000 iterations: 0.757218\n"
     ]
    }
   ],
   "source": [
    "tsne_res = TSNE(n_components=2, verbose=10).fit_transform(df[['x', 'y', 'z']])"
   ]
  },
  {
   "cell_type": "code",
   "execution_count": 27,
   "metadata": {},
   "outputs": [
    {
     "data": {
      "text/html": [
       "<div>\n",
       "<style scoped>\n",
       "    .dataframe tbody tr th:only-of-type {\n",
       "        vertical-align: middle;\n",
       "    }\n",
       "\n",
       "    .dataframe tbody tr th {\n",
       "        vertical-align: top;\n",
       "    }\n",
       "\n",
       "    .dataframe thead th {\n",
       "        text-align: right;\n",
       "    }\n",
       "</style>\n",
       "<table border=\"1\" class=\"dataframe\">\n",
       "  <thead>\n",
       "    <tr style=\"text-align: right;\">\n",
       "      <th></th>\n",
       "      <th>x</th>\n",
       "      <th>y</th>\n",
       "      <th>cls</th>\n",
       "    </tr>\n",
       "  </thead>\n",
       "  <tbody>\n",
       "    <tr>\n",
       "      <th>0</th>\n",
       "      <td>68.375427</td>\n",
       "      <td>-11.442039</td>\n",
       "      <td>1</td>\n",
       "    </tr>\n",
       "    <tr>\n",
       "      <th>1</th>\n",
       "      <td>-23.554428</td>\n",
       "      <td>-21.987862</td>\n",
       "      <td>2</td>\n",
       "    </tr>\n",
       "    <tr>\n",
       "      <th>2</th>\n",
       "      <td>-46.614769</td>\n",
       "      <td>-14.629387</td>\n",
       "      <td>2</td>\n",
       "    </tr>\n",
       "    <tr>\n",
       "      <th>3</th>\n",
       "      <td>-9.102798</td>\n",
       "      <td>17.477783</td>\n",
       "      <td>0</td>\n",
       "    </tr>\n",
       "    <tr>\n",
       "      <th>4</th>\n",
       "      <td>-16.187662</td>\n",
       "      <td>26.885998</td>\n",
       "      <td>0</td>\n",
       "    </tr>\n",
       "  </tbody>\n",
       "</table>\n",
       "</div>"
      ],
      "text/plain": [
       "           x          y  cls\n",
       "0  68.375427 -11.442039    1\n",
       "1 -23.554428 -21.987862    2\n",
       "2 -46.614769 -14.629387    2\n",
       "3  -9.102798  17.477783    0\n",
       "4 -16.187662  26.885998    0"
      ]
     },
     "execution_count": 27,
     "metadata": {},
     "output_type": "execute_result"
    }
   ],
   "source": [
    "res_df = pd.DataFrame({'x': tsne_res[:,0], 'y': tsne_res[:,1], 'cls': df['cls']})\n",
    "res_df.head()"
   ]
  },
  {
   "cell_type": "code",
   "execution_count": 29,
   "metadata": {},
   "outputs": [],
   "source": [
    "result = pd.DataFrame(res_df[['x','y']])\n",
    "result.to_csv('../data/cube/cube-reduced-tsne.csv', index=None, sep=';')"
   ]
  },
  {
   "cell_type": "markdown",
   "metadata": {},
   "source": [
    "## Plot result of 2D plots"
   ]
  },
  {
   "cell_type": "code",
   "execution_count": null,
   "metadata": {},
   "outputs": [],
   "source": [
    "plt.figure(figsize=(16,16))\n",
    "sns.scatterplot(\n",
    "    x='y', y='x', hue=\"cls\",\n",
    "    palette=sns.color_palette(\"hls\", 3),\n",
    "    data=res_df,\n",
    "    legend=\"full\",\n",
    "    alpha=0.3\n",
    ")"
   ]
  }
 ],
 "metadata": {
  "kernelspec": {
   "display_name": "Python 3",
   "language": "python",
   "name": "python3"
  },
  "language_info": {
   "codemirror_mode": {
    "name": "ipython",
    "version": 3
   },
   "file_extension": ".py",
   "mimetype": "text/x-python",
   "name": "python",
   "nbconvert_exporter": "python",
   "pygments_lexer": "ipython3",
   "version": "3.8.5"
  }
 },
 "nbformat": 4,
 "nbformat_minor": 4
}
