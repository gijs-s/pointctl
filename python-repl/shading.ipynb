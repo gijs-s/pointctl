{
 "cells": [
  {
   "cell_type": "code",
   "execution_count": null,
   "metadata": {},
   "outputs": [],
   "source": [
    "import open3d as o3d\n",
    "import numpy as np\n",
    "import pandas as pd"
   ]
  },
  {
   "cell_type": "code",
   "execution_count": null,
   "metadata": {},
   "outputs": [],
   "source": [
    "# Create filled cube\n",
    "def point_list(size):\n",
    "    for z in range(size + 1):\n",
    "        for y in range(size + 1):\n",
    "            for x in range(size + 1):\n",
    "                yield (x / size, y / size, z / size)\n",
    "\n",
    "# Create a hollow cube\n",
    "def point_list_hollow(size):\n",
    "    for x in range(size + 1):\n",
    "        for y in range(size + 1):\n",
    "            for i in range(2):\n",
    "                yield (i, x / size, y / size)\n",
    "                yield (x / size, i, y / size)\n",
    "                yield (x / size, y / size, i)\n",
    "\n",
    "                \n",
    "full = np.array([point for point in point_list(50)])\n",
    "hollow = np.array([point for point in point_list_hollow(50)])"
   ]
  },
  {
   "cell_type": "code",
   "execution_count": null,
   "metadata": {},
   "outputs": [],
   "source": [
    "def view_array(data):\n",
    "    pcd = o3d.geometry.PointCloud()\n",
    "    pcd.points = o3d.utility.Vector3dVector(data)\n",
    "    pcd.estimate_normals(search_param=o3d.geometry.KDTreeSearchParamHybrid(radius=0.1, max_nn=50))\n",
    "    o3d.visualization.draw_geometries([pcd])"
   ]
  },
  {
   "cell_type": "code",
   "execution_count": null,
   "metadata": {},
   "outputs": [],
   "source": [
    "view_array(full)"
   ]
  },
  {
   "cell_type": "code",
   "execution_count": null,
   "metadata": {},
   "outputs": [],
   "source": [
    "view_array(hollow)"
   ]
  },
  {
   "cell_type": "code",
   "execution_count": null,
   "metadata": {},
   "outputs": [],
   "source": [
    "# Create points along sphere, not totally uniform but close enough\n",
    "def points_on_sphere(size):\n",
    "    for a in range(size + 1):\n",
    "        for b in range(size + 1):\n",
    "            for c in range(size + 1):\n",
    "                a2 = ((a / size) - 0.5) * 2\n",
    "                b2 = ((b / size) - 0.5) * 2\n",
    "                c2 = ((c / size) - 0.5) * 2\n",
    "                r = np.sqrt(a2 ** 2 + b2 ** 2 + c2 ** 2)\n",
    "                if r == 0:\n",
    "                    continue\n",
    "                ir = 1 / r\n",
    "                yield (a2 * ir, b2 * ir, c2 * ir)\n",
    "\n",
    "sphere = np.array([point for point in points_on_sphere(50)])"
   ]
  },
  {
   "cell_type": "code",
   "execution_count": null,
   "metadata": {},
   "outputs": [],
   "source": [
    "view_array(sphere)"
   ]
  },
  {
   "cell_type": "code",
   "execution_count": null,
   "metadata": {},
   "outputs": [],
   "source": [
    "def save(data, output_file):\n",
    "    df = pd.DataFrame({\"x\": data[:, 0], \"y\": data[:, 1], \"z\": data[:, 2]})\n",
    "    df.to_csv(output_file, sep=';', index=False)"
   ]
  },
  {
   "cell_type": "code",
   "execution_count": null,
   "metadata": {},
   "outputs": [],
   "source": [
    "save(full, '../data/shading/cube-full.csv')\n",
    "save(hollow, '../data/shading/cube-hollow.csv')\n",
    "save(sphere, '../data/shading/sphere-hollow.csv')"
   ]
  },
  {
   "cell_type": "code",
   "execution_count": null,
   "metadata": {},
   "outputs": [],
   "source": [
    "save(sphere, '../data/shading/sphere-hollow.csv')"
   ]
  }
 ],
 "metadata": {
  "kernelspec": {
   "display_name": "Python 3",
   "language": "python",
   "name": "python3"
  },
  "language_info": {
   "codemirror_mode": {
    "name": "ipython",
    "version": 3
   },
   "file_extension": ".py",
   "mimetype": "text/x-python",
   "name": "python",
   "nbconvert_exporter": "python",
   "pygments_lexer": "ipython3",
   "version": "3.8.5"
  }
 },
 "nbformat": 4,
 "nbformat_minor": 4
}
