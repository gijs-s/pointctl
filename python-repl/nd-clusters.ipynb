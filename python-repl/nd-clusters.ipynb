{
 "cells": [
  {
   "cell_type": "markdown",
   "metadata": {},
   "source": [
    "# Small notebook used to generate nd clusters dataset"
   ]
  },
  {
   "cell_type": "code",
   "execution_count": null,
   "metadata": {},
   "outputs": [],
   "source": [
    "import open3d as o3d\n",
    "import numpy as np\n",
    "import pandas as pd\n",
    "import matplotlib.pyplot as plt"
   ]
  },
  {
   "cell_type": "markdown",
   "metadata": {},
   "source": [
    "# Create ||dimension|| clusters"
   ]
  },
  {
   "cell_type": "code",
   "execution_count": null,
   "metadata": {},
   "outputs": [],
   "source": [
    "# Points per dimension\n",
    "point_count = 2500\n",
    "# Amount of dimensions\n",
    "dimensions = 7\n",
    "\n",
    "reduced_points_2d = []\n",
    "reduced_points_3d = []\n",
    "nd_points = []\n",
    "\n",
    "for dim in range(1,dimensions+1):\n",
    "    reduced_positions = np.random.normal(loc=dim*2, scale=0.20, size=point_count*2).reshape(point_count,2)\n",
    "    reduced_points_2d.extend(reduced_positions)\n",
    "    \n",
    "    reduced_positions = np.random.normal(loc=dim*2, scale=0.20, size=point_count*3).reshape(point_count,3)\n",
    "    reduced_points_3d.extend(reduced_positions)\n",
    "    \n",
    "    nd_noise = np.random.normal(loc=0, scale=0.1, size=point_count*dim).reshape(point_count,dim)\n",
    "    zeros = np.zeros((point_count, dimensions))\n",
    "    zeros[:point_count,:dim] = nd_noise\n",
    "    nd_points.extend(zeros)\n",
    "    \n",
    "# df_reduced_source = pd.DataFrame(reduced_points_2d, columns=['x','y'])\n",
    "# df_reduced_2d = (df_reduced_source-df_reduced_source.mean())/df_reduced_source.std()\n",
    "df_reduced_2d = pd.DataFrame(reduced_points_2d, columns=['x','y'])\n",
    "\n",
    "# df_reduced_source = pd.DataFrame(reduced_points_3d, columns=['x','y','z'])\n",
    "# df_reduced_3d = (df_reduced_source-df_reduced_source.mean())/df_reduced_source.std()\n",
    "df_reduced_3d = pd.DataFrame(reduced_points_3d, columns=['x','y','z'])\n",
    "\n",
    "df_original_source = pd.DataFrame(nd_points, columns=['1','2','3','4','5','6','7'])\n",
    "df_original = (df_original_source - df_original_source.mean() / df_original_source.std())"
   ]
  },
  {
   "cell_type": "code",
   "execution_count": null,
   "metadata": {},
   "outputs": [],
   "source": [
    "fig = plt.figure(figsize=(10,10))\n",
    "# ax = fig.add_subplot(111)\n",
    "plt.plot('x', 'y', '.', data=df_reduced_2d)"
   ]
  },
  {
   "cell_type": "code",
   "execution_count": null,
   "metadata": {},
   "outputs": [],
   "source": [
    "df_reduced_2d.to_csv('../data/nd-clusters/reduced-2d.csv', header=True, index=False, sep=';')\n",
    "df_reduced_3d.to_csv('../data/nd-clusters/reduced-3d.csv', header=True, index=False, sep=';')\n",
    "df_original.to_csv('../data/nd-clusters/original.csv', header=True, index=False, sep=';')"
   ]
  },
  {
   "cell_type": "markdown",
   "metadata": {},
   "source": [
    "# Create a box that where the original dimensionality fades 2 dimensions"
   ]
  },
  {
   "cell_type": "code",
   "execution_count": null,
   "metadata": {},
   "outputs": [],
   "source": [
    "def square(size, offset_x=0, offset_y=0):\n",
    "    for x in range(1, size + 1):\n",
    "        for y in range(1, size + 1):\n",
    "            yield ((x / (size)) + offset_x, (y / (size) + offset_y))"
   ]
  },
  {
   "cell_type": "code",
   "execution_count": null,
   "metadata": {},
   "outputs": [],
   "source": [
    "len([p for p in square(40)])"
   ]
  },
  {
   "cell_type": "code",
   "execution_count": null,
   "metadata": {},
   "outputs": [],
   "source": [
    "points_per_axis = 60\n",
    "dimensions = 2\n",
    "\n",
    "reduced_points_2d = []\n",
    "# reduced_points_3d = []\n",
    "nd_points = []\n",
    "\n",
    "for dim in range(1, dimensions+1):\n",
    "    reduced_points_2d.extend(square(points_per_axis, offset_x=(dim-1)))\n",
    "    \n",
    "    nd_noise = np.random.normal(loc=0, size=points_per_axis ** 2 * dim).reshape(points_per_axis**2, dim)\n",
    "    zeros = np.zeros((points_per_axis ** 2, dimensions))\n",
    "    zeros[:nd_noise.shape[0],:nd_noise.shape[1]] = nd_noise\n",
    "    nd_points.extend(zeros)\n",
    "    \n",
    "df_reduced_2d = pd.DataFrame(reduced_points_2d, columns=['x','y'])\n",
    "\n",
    "df_original_source = pd.DataFrame(nd_points, columns=([str(i) for i in range(1, dimensions+1)]))\n",
    "df_original = (df_original_source - df_original_source.mean() / df_original_source.std())"
   ]
  },
  {
   "cell_type": "code",
   "execution_count": null,
   "metadata": {},
   "outputs": [],
   "source": [
    "fig = plt.figure(figsize=(4*7,4))\n",
    "# ax = fig.add_subplot(111)\n",
    "plt.plot('x', 'y', '.', data=df_reduced_2d)"
   ]
  },
  {
   "cell_type": "code",
   "execution_count": null,
   "metadata": {},
   "outputs": [],
   "source": [
    "# Create a box that where the original dimensionality fades 2 clusters"
   ]
  },
  {
   "cell_type": "code",
   "execution_count": null,
   "metadata": {},
   "outputs": [],
   "source": [
    "df_reduced_2d.to_csv('../data/nd-fade/reduced-2dims-2d.csv', header=True, index=False, sep=';')\n",
    "df_original.to_csv('../data/nd-fade/original-2dims.csv', header=True, index=False, sep=';')"
   ]
  }
 ],
 "metadata": {
  "kernelspec": {
   "display_name": "Python 3",
   "language": "python",
   "name": "python3"
  },
  "language_info": {
   "codemirror_mode": {
    "name": "ipython",
    "version": 3
   },
   "file_extension": ".py",
   "mimetype": "text/x-python",
   "name": "python",
   "nbconvert_exporter": "python",
   "pygments_lexer": "ipython3",
   "version": "3.8.5"
  }
 },
 "nbformat": 4,
 "nbformat_minor": 4
}
