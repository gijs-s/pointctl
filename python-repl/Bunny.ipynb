{
 "cells": [
  {
   "cell_type": "code",
   "execution_count": null,
   "metadata": {},
   "outputs": [],
   "source": [
    "import open3d as o3d\n",
    "import numpy as np\n",
    "import pandas as pd\n",
    "from typing import Literal"
   ]
  },
  {
   "cell_type": "code",
   "execution_count": null,
   "metadata": {},
   "outputs": [],
   "source": [
    "# taken from: http://graphics.stanford.edu/data/3Dscanrep/ \n",
    "# exact link: http://graphics.stanford.edu/pub/3Dscanrep/bunny.tar.gz\n",
    "files = [\n",
    "    ('../data/bunny/bun_zipper.ply', '../data/bunny/bun_zipper.csv'),\n",
    "    ('../data/bunny/bun_zipper_res2.ply', '../data/bunny/bun_zipper_res2.csv'),\n",
    "    ('../data/bunny/bun_zipper_res3.ply', '../data/bunny/bun_zipper_res3.csv'),\n",
    "    ('../data/bunny/bun_zipper_res4.ply', '../data/bunny/bun_zipper_res4.csv')\n",
    "]"
   ]
  },
  {
   "cell_type": "code",
   "execution_count": null,
   "metadata": {},
   "outputs": [],
   "source": [
    "# Cleanup the bunnies from ply to csv dropping the irrelevant columns\n",
    "for input_file, output_file in files:\n",
    "    pcd = o3d.io.read_point_cloud(input_file)\n",
    "    array = np.asarray(pcd.points)\n",
    "    df = pd.DataFrame({\"x\": array[:, 0], \"y\": array[:, 1], \"z\": array[:, 2]})\n",
    "    df.to_csv(output_file, sep=';', index=False)   \n",
    "    "
   ]
  },
  {
   "cell_type": "code",
   "execution_count": null,
   "metadata": {},
   "outputs": [],
   "source": [
    "def view(resolution: Literal[0,1,2,3]):\n",
    "    \"\"\"View the bunny in varying resolutions\"\"\"\n",
    "    pcd = o3d.io.read_point_cloud(files[resolution][0])\n",
    "    o3d.visualization.draw_geometries([pcd])\n",
    "    \n",
    "view(0)"
   ]
  },
  {
   "cell_type": "code",
   "execution_count": null,
   "metadata": {},
   "outputs": [],
   "source": [
    "# Estimate the normals\n",
    "def normals(resolution: Literal[0,1,2,3]):\n",
    "    \"\"\"View the bunny in varying resolutions\"\"\"\n",
    "    pcd = o3d.io.read_point_cloud(files[resolution][0])\n",
    "    pcd.estimate_normals(search_param=o3d.geometry.KDTreeSearchParamHybrid(radius=0.1, max_nn=30))\n",
    "    o3d.visualization.draw_geometries([pcd], point_show_normal=True)\n",
    "\n",
    "normals(0)"
   ]
  }
 ],
 "metadata": {
  "kernelspec": {
   "display_name": "Python 3",
   "language": "python",
   "name": "python3"
  },
  "language_info": {
   "codemirror_mode": {
    "name": "ipython",
    "version": 3
   },
   "file_extension": ".py",
   "mimetype": "text/x-python",
   "name": "python",
   "nbconvert_exporter": "python",
   "pygments_lexer": "ipython3",
   "version": "3.8.5"
  }
 },
 "nbformat": 4,
 "nbformat_minor": 4
}
