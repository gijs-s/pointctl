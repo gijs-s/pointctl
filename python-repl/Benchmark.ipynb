{
 "cells": [
  {
   "cell_type": "markdown",
   "metadata": {},
   "source": [
    "## Quick python code that can benchmark how fast the program is"
   ]
  },
  {
   "cell_type": "code",
   "execution_count": null,
   "metadata": {},
   "outputs": [],
   "source": [
    "import numpy as np\n",
    "import pandas as pd\n",
    "from pathlib import Path\n",
    "from sklearn.manifold import TSNE\n",
    "from sklearn.decomposition import PCA\n",
    "from sklearn.preprocessing import MinMaxScaler\n",
    "\n",
    "import matplotlib\n",
    "import seaborn as sns\n",
    "import matplotlib.pyplot as plt"
   ]
  },
  {
   "cell_type": "markdown",
   "metadata": {},
   "source": [
    "### List the source files and ensure a TSN-e reduction is available"
   ]
  },
  {
   "cell_type": "code",
   "execution_count": null,
   "metadata": {},
   "outputs": [],
   "source": [
    "source_files = [\n",
    "    Path(\"../data/abalone/abalone.csv\").resolve(),\n",
    "    Path(\"../data/absenteeism/absenteeism.csv\").resolve(),\n",
    "    Path(\"../data/diabetes/diabetes.csv\").resolve(),\n",
    "    Path(\"../data/epileptic/epileptic.csv\").resolve(),\n",
    "    Path(\"../data/happiness/happiness.csv\").resolve(),\n",
    "    Path(\"../data/seismic/seismic.csv\").resolve(),\n",
    "    Path(\"../data/wbc/wbc.csv\").resolve(),\n",
    "    Path(\"../data/bank/bank.csv\").resolve(),\n",
    "    Path(\"../data/winequality/winequality-src-both.csv\").resolve(),\n",
    "    Path(\"../data/cube/cube100k.csv\").resolve(),\n",
    "]\n",
    "\n",
    "for file in source_files:\n",
    "    assert file.exists(), f\"{file} does not exist\""
   ]
  },
  {
   "cell_type": "code",
   "execution_count": null,
   "metadata": {},
   "outputs": [],
   "source": [
    "# Ensure we have a reduction we can use for each, if not we run TSNe\n",
    "bench_files = []\n",
    "for source_file in source_files:\n",
    "    # check if the reduced-2d.csv file is available in the directory. If not create it.\n",
    "    \n",
    "    name = lambda d: f\"{source_file.name[:-4]}-TSNE-{d}.csv\"\n",
    "    reduced_file_2d = (source_file.parent / name('2d')).resolve()\n",
    "    reduced_file_3d = (source_file.parent / name('3d')).resolve()\n",
    "\n",
    "    df = pd.read_csv(source_file, delimiter=';')\n",
    "    if len(df) > 50_000:\n",
    "        print(f\"Missing: {reduced_file}, running PCA (because file there are so many points)\")\n",
    "        res = PCA(n_components=3).fit_transform(df)\n",
    "    else:\n",
    "        print(f\"Running TSNe 2D for {reduced_file_2d}\")\n",
    "        res_2d = TSNE(n_components=2, verbose=10, n_jobs=-5).fit_transform(df)\n",
    "        print(f\"Running TSNe 3D for {reduced_file_3d}\")\n",
    "        res_3d = TSNE(n_components=3, verbose=10, n_jobs=-5).fit_transform(df)\n",
    "    \n",
    "    # WRite to file    \n",
    "    res_df = pd.DataFrame(res_2d)\n",
    "    res_df.to_csv(reduced_file_2d, index=None, sep=';')\n",
    "    res_df = pd.DataFrame(res_3d)\n",
    "    res_df.to_csv(reduced_file_3d, index=None, sep=';')\n",
    "    \n",
    "        \n",
    "#     bench_files.append((source_file, reduced_file))\n"
   ]
  },
  {
   "cell_type": "markdown",
   "metadata": {},
   "source": [
    "### Now that we have all the files we can start benchmarking"
   ]
  },
  {
   "cell_type": "code",
   "execution_count": null,
   "metadata": {},
   "outputs": [],
   "source": [
    "# Ensure pointctl is installed, never benchmark with a debug build\n",
    "!pointctl --help"
   ]
  },
  {
   "cell_type": "code",
   "execution_count": null,
   "metadata": {},
   "outputs": [],
   "source": [
    "from subprocess import Popen, PIPE\n",
    "import time, tempfile\n",
    "def run_benchmark(source_df, reduced_df, r, c, d):\n",
    "    # Create to temp files where the sources are writtend to and the program loads them from\n",
    "    with tempfile.NamedTemporaryFile(mode='w+') as source_file, tempfile.NamedTemporaryFile(mode='w+') as reduced_file:\n",
    "        indices = list(np.random.choice(source_df.index, c, replace=True))\n",
    "        reduced_df_2 = reduced_df.iloc[indices]\n",
    "        source_df_2 = source_df.iloc[indices]\n",
    "        assert len(source_df_2) == len(reduced_df_2), f\"Files should contain the same amount of points. Source: {len(source_df_2)}, Reduced: {len(reduced_df_2)}\"\n",
    "        source_df_2.to_csv(source_file, index=None, sep=';')\n",
    "        reduced_df_2.to_csv(reduced_file, index=None, sep=';')\n",
    "        \n",
    "        now = time.time()\n",
    "        p = Popen([\"pointctl\", \"explain\", \"-r\", r, \"--input\", source_file.name, \"--reduced\", reduced_file.name, \"./foobar.csv\"], stdout=PIPE, stderr=PIPE)\n",
    "        output = p.communicate()\n",
    "        print(output)\n",
    "        timing = time.time() - now\n",
    "    return timing"
   ]
  },
  {
   "cell_type": "code",
   "execution_count": null,
   "metadata": {},
   "outputs": [],
   "source": []
  },
  {
   "cell_type": "code",
   "execution_count": null,
   "metadata": {},
   "outputs": [],
   "source": [
    "import time\n",
    "from subprocess import Popen, PIPE\n",
    "\n",
    "def run_benchmark(source, reduced, r, m):\n",
    "    now = time.time()\n",
    "    p = Popen([\"pointctl\", \"explain\", \"-r\", r, \"-t\", \"0.90\", \"--input\", source, \"--reduced\", reduced, \"./foobar.csv\"], stdout=PIPE, stderr=PIPE)\n",
    "    output = p.communicate()\n",
    "    timing = time.time() - now\n",
    "    print(f\"\\t{timing:.3f} seconds for {m} / {r}\")\n",
    "\n",
    "for (source, reduced) in bench_files:\n",
    "    source_df = pd.read_csv(source, delimiter=';')\n",
    "    print(f\"Running on {source.name}. Rows: {len(source_df)} - Dimensions: {len(source_df.columns)}\")\n",
    "    for m in [\"silva_variance\", \"driel_sum\"]:\n",
    "        for r in [\"0.1\", \"0.2\", \"0.3\"]:\n",
    "            run_benchmark(source, reduced, r, m)\n"
   ]
  }
 ],
 "metadata": {
  "kernelspec": {
   "display_name": "Python 3",
   "language": "python",
   "name": "python3"
  },
  "language_info": {
   "codemirror_mode": {
    "name": "ipython",
    "version": 3
   },
   "file_extension": ".py",
   "mimetype": "text/x-python",
   "name": "python",
   "nbconvert_exporter": "python",
   "pygments_lexer": "ipython3",
   "version": "3.8.5"
  }
 },
 "nbformat": 4,
 "nbformat_minor": 4
}
